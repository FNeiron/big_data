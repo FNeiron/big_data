{
  "nbformat": 4,
  "nbformat_minor": 0,
  "metadata": {
    "colab": {
      "provenance": []
    },
    "kernelspec": {
      "name": "python3",
      "display_name": "Python 3"
    },
    "language_info": {
      "name": "python"
    }
  },
  "cells": [
    {
      "cell_type": "code",
      "execution_count": 1,
      "metadata": {
        "id": "pPIjDmkP2w-m"
      },
      "outputs": [],
      "source": [
        "!apt-get install openjdk-8-jdk-headless -qq > /dev/null\n",
        "!wget -q http://archive.apache.org/dist/spark/spark-3.1.1/spark-3.1.1-bin-hadoop3.2.tgz\n",
        "!tar xf spark-3.1.1-bin-hadoop3.2.tgz\n",
        "!pip install -q findspark"
      ]
    },
    {
      "cell_type": "code",
      "source": [
        "import os\n",
        "os.environ[\"JAVA_HOME\"] = \"/usr/lib/jvm/java-8-openjdk-amd64\"\n",
        "os.environ[\"SPARK_HOME\"] = \"/content/spark-3.1.1-bin-hadoop3.2\""
      ],
      "metadata": {
        "id": "DEIi1ofI3kSf"
      },
      "execution_count": 2,
      "outputs": []
    },
    {
      "cell_type": "code",
      "source": [
        "import findspark\n",
        "\n",
        "findspark.init()\n",
        "\n",
        "from pyspark import SparkContext, SparkConf\n",
        "from pyspark.sql import SparkSession\n",
        "import pyspark.sql as sql\n",
        "from pyspark.sql.types import DoubleType, IntegerType\n",
        "from pyspark.sql.functions import udf, col, max, sum, countDistinct\n",
        "from math import sin, cos, sqrt, atan2, radians\n",
        "\n",
        "spark = SparkSession.builder.master(\"local[*]\").getOrCreate()\n",
        "spark.conf.set(\"spark.sql.repl.eagerEval.enabled\", True) # Property used to format output tables better\n",
        "spark"
      ],
      "metadata": {
        "id": "dLPwkCQ93sOL",
        "colab": {
          "base_uri": "https://localhost:8080/",
          "height": 222
        },
        "outputId": "ff29e5bb-2d66-48c9-cc94-6d5f4359d871"
      },
      "execution_count": 33,
      "outputs": [
        {
          "output_type": "execute_result",
          "data": {
            "text/plain": [
              "<pyspark.sql.session.SparkSession at 0x7c5f78135cc0>"
            ],
            "text/html": [
              "\n",
              "            <div>\n",
              "                <p><b>SparkSession - in-memory</b></p>\n",
              "                \n",
              "        <div>\n",
              "            <p><b>SparkContext</b></p>\n",
              "\n",
              "            <p><a href=\"http://344e028054dd:4040\">Spark UI</a></p>\n",
              "\n",
              "            <dl>\n",
              "              <dt>Version</dt>\n",
              "                <dd><code>v3.1.1</code></dd>\n",
              "              <dt>Master</dt>\n",
              "                <dd><code>local[*]</code></dd>\n",
              "              <dt>AppName</dt>\n",
              "                <dd><code>pyspark-shell</code></dd>\n",
              "            </dl>\n",
              "        </div>\n",
              "        \n",
              "            </div>\n",
              "        "
            ]
          },
          "metadata": {},
          "execution_count": 33
        }
      ]
    },
    {
      "cell_type": "code",
      "source": [
        "trips_df = spark.read.csv('trips.csv', header=True, inferSchema=True, sep=\",\")\n",
        "trips_df.show(5)\n",
        "trips_df.printSchema()"
      ],
      "metadata": {
        "id": "W9g8aEJ_4dI3",
        "colab": {
          "base_uri": "https://localhost:8080/"
        },
        "outputId": "f08b834b-6b1d-4e22-d6b9-04879547cdab"
      },
      "execution_count": 44,
      "outputs": [
        {
          "output_type": "stream",
          "name": "stdout",
          "text": [
            "+----+--------+---------------+--------------------+----------------+---------------+--------------------+--------------+-------+-----------------+--------+\n",
            "|  id|duration|     start_date|  start_station_name|start_station_id|       end_date|    end_station_name|end_station_id|bike_id|subscription_type|zip_code|\n",
            "+----+--------+---------------+--------------------+----------------+---------------+--------------------+--------------+-------+-----------------+--------+\n",
            "|4576|      63|           null|South Van Ness at...|              66|8/29/2013 14:14|South Van Ness at...|            66|    520|       Subscriber|   94127|\n",
            "|4607|    null|8/29/2013 14:42|  San Jose City Hall|              10|8/29/2013 14:43|  San Jose City Hall|            10|    661|       Subscriber|   95138|\n",
            "|4130|      71|8/29/2013 10:16|Mountain View Cit...|              27|8/29/2013 10:17|Mountain View Cit...|            27|     48|       Subscriber|   97214|\n",
            "|4251|      77|8/29/2013 11:29|  San Jose City Hall|              10|8/29/2013 11:30|  San Jose City Hall|            10|     26|       Subscriber|   95060|\n",
            "|4299|      83|8/29/2013 12:02|South Van Ness at...|              66|8/29/2013 12:04|      Market at 10th|            67|    319|       Subscriber|   94103|\n",
            "+----+--------+---------------+--------------------+----------------+---------------+--------------------+--------------+-------+-----------------+--------+\n",
            "only showing top 5 rows\n",
            "\n",
            "root\n",
            " |-- id: integer (nullable = true)\n",
            " |-- duration: integer (nullable = true)\n",
            " |-- start_date: string (nullable = true)\n",
            " |-- start_station_name: string (nullable = true)\n",
            " |-- start_station_id: integer (nullable = true)\n",
            " |-- end_date: string (nullable = true)\n",
            " |-- end_station_name: string (nullable = true)\n",
            " |-- end_station_id: integer (nullable = true)\n",
            " |-- bike_id: integer (nullable = true)\n",
            " |-- subscription_type: string (nullable = true)\n",
            " |-- zip_code: string (nullable = true)\n",
            "\n"
          ]
        }
      ]
    },
    {
      "cell_type": "code",
      "source": [
        "stations_df = spark.read.csv('stations.csv', header=True, inferSchema=True, sep=\",\")\n",
        "stations_df.show(5)\n",
        "stations_df.printSchema()"
      ],
      "metadata": {
        "id": "nmEjHjfZ5it-",
        "colab": {
          "base_uri": "https://localhost:8080/"
        },
        "outputId": "5573a609-7c95-4b25-9452-85cff3aaf8b3"
      },
      "execution_count": 45,
      "outputs": [
        {
          "output_type": "stream",
          "name": "stdout",
          "text": [
            "+---+--------------------+------------------+-------------------+----------+--------+-----------------+\n",
            "| id|                name|               lat|               long|dock_count|    city|installation_date|\n",
            "+---+--------------------+------------------+-------------------+----------+--------+-----------------+\n",
            "|  2|San Jose Diridon ...|         37.329732|-121.90178200000001|        27|San Jose|         8/6/2013|\n",
            "|  3|San Jose Civic Ce...|         37.330698|        -121.888979|        15|San Jose|         8/5/2013|\n",
            "|  4|Santa Clara at Al...|         37.333988|        -121.894902|        11|San Jose|         8/6/2013|\n",
            "|  5|    Adobe on Almaden|         37.331415|          -121.8932|        19|San Jose|         8/5/2013|\n",
            "|  6|    San Pedro Square|37.336721000000004|        -121.894074|        15|San Jose|         8/7/2013|\n",
            "+---+--------------------+------------------+-------------------+----------+--------+-----------------+\n",
            "only showing top 5 rows\n",
            "\n",
            "root\n",
            " |-- id: integer (nullable = true)\n",
            " |-- name: string (nullable = true)\n",
            " |-- lat: double (nullable = true)\n",
            " |-- long: double (nullable = true)\n",
            " |-- dock_count: integer (nullable = true)\n",
            " |-- city: string (nullable = true)\n",
            " |-- installation_date: string (nullable = true)\n",
            "\n"
          ]
        }
      ]
    },
    {
      "cell_type": "markdown",
      "source": [
        "*   Найти велосипед с максимальным временем пробега.\n",
        "*   Найти наибольшее геодезическое расстояние между станциями.\n",
        "*   Найти путь велосипеда с максимальным временем пробега через станции.\n",
        "*   Найти количество велосипедов в системе.\n",
        "*   Найти пользователей потративших на поездки более 3 часов."
      ],
      "metadata": {
        "id": "R7Syig5B4RRi"
      }
    },
    {
      "cell_type": "code",
      "source": [
        "# Найти велосипед с максимальным временем пробега.\n",
        "from pyspark.sql import functions as F\n",
        "\n",
        "\n",
        "total_trips_bike = trips_df.groupBy(\"bike_id\").agg(sum(col(\"duration\")).alias(\"total_trips_duration\"))\n",
        "\n",
        "bike_max_trips = total_trips_bike.orderBy(col(\"total_trips_duration\").desc()).first()\n",
        "\n",
        "total_id = bike_max_trips[\"bike_id\"]\n",
        "total_duration = bike_max_trips[\"total_trips_duration\"]\n",
        "\n",
        "print(\"Bike\", total_id, \"has total duration \", total_duration)"
      ],
      "metadata": {
        "id": "MKV8S7WT5sLL",
        "colab": {
          "base_uri": "https://localhost:8080/"
        },
        "outputId": "a64fa6f5-cdee-4fc6-ca10-e00074d0a5c6"
      },
      "execution_count": 47,
      "outputs": [
        {
          "output_type": "stream",
          "name": "stdout",
          "text": [
            "Bike 535 has total duration  18611693\n"
          ]
        }
      ]
    },
    {
      "cell_type": "code",
      "source": [
        "# Найти путь велосипеда с максимальным временем пробега через станции.\n",
        "\n",
        "def geodesic_distance(lat1, lon1, lat2, lon2):\n",
        "    R = 6373.0\n",
        "    lat1, lat2 = radians(float(lat1)), radians(float(lat2))\n",
        "    lon1, lon2 = radians(float(lon1)), radians(float(lon2))\n",
        "    dlon, dlat = lon2 - lon1, lat2 - lat1\n",
        "    a = sin(dlat / 2)**2 + cos(lat1) * cos(lat2) * sin(dlon / 2)**2\n",
        "    c = 2 * atan2(sqrt(a), sqrt(1 - a))\n",
        "    distance = R * c\n",
        "    return distance\n",
        "\n",
        "distance = udf(geodesic_distance, DoubleType())\n",
        "\n",
        "station = stations_df.alias(\"station1\").crossJoin(stations_df.alias(\"station2\"))\n",
        "\n",
        "# Вычисление геодезических расстояний между всеми парами станций\n",
        "station_distance = station.withColumn(\"geodesic_distance\", distance(col(\"station1.lat\"), col(\"station1.long\"), col(\"station2.lat\"), col(\"station2.long\")))\n",
        "\n",
        "# Нахождение максимального геодезического расстояния\n",
        "dist = station_distance.selectExpr(\"max(geodesic_distance) as max_distance\").collect()[0][\"max_distance\"]\n",
        "print(f\"Наибольшее геодезическое расстояние между станциями {dist}\")"
      ],
      "metadata": {
        "id": "8fUwspF4IE_-",
        "colab": {
          "base_uri": "https://localhost:8080/"
        },
        "outputId": "174721a8-3631-4e5e-ecd7-cd03d70f7a51"
      },
      "execution_count": 48,
      "outputs": [
        {
          "output_type": "stream",
          "name": "stdout",
          "text": [
            "Наибольшее геодезическое расстояние между станциями 69.9428256877473\n"
          ]
        }
      ]
    },
    {
      "cell_type": "code",
      "source": [
        "# Найти путь велосипеда с максимальным временем пробега через станции.\n",
        "\n",
        "# Сортируем поездки по длительности и выбираем наиболее длительную\n",
        "longest_trip = trips_df.select(\"start_station_name\", \"end_station_name\", \"duration\") \\\n",
        "                        .orderBy(col('duration').desc()).first()\n",
        "\n",
        "start_station = longest_trip[\"start_station_name\"]\n",
        "end_station = longest_trip[\"end_station_name\"]\n",
        "trip_duration = longest_trip[\"duration\"]\n",
        "\n",
        "print(f\"Путь из \\\"{start_station}\\\" в \\\"{end_station}\\\" занял максимальное время пробега {trip_duration} секунд\")"
      ],
      "metadata": {
        "colab": {
          "base_uri": "https://localhost:8080/"
        },
        "id": "d6OJ-MxHdqSF",
        "outputId": "c616cc6d-e935-4b8f-8575-b070337f03e7"
      },
      "execution_count": 49,
      "outputs": [
        {
          "output_type": "stream",
          "name": "stdout",
          "text": [
            "Путь из \"South Van Ness at Market\" в \"2nd at Folsom\" занял максимальное время пробега 17270400 секунд\n"
          ]
        }
      ]
    },
    {
      "cell_type": "code",
      "source": [
        "# Найти количество велосипедов в системе.\n",
        "\n",
        "bikes = trips_df.select('bike_id').distinct().count()\n",
        "\n",
        "print(f'Количество велосипедов в системе: {bikes}')"
      ],
      "metadata": {
        "colab": {
          "base_uri": "https://localhost:8080/"
        },
        "id": "GQajTQL0enxv",
        "outputId": "9d27350f-a4ba-4b8f-a1d6-a792395e72b9"
      },
      "execution_count": 50,
      "outputs": [
        {
          "output_type": "stream",
          "name": "stdout",
          "text": [
            "Количество велосипедов в системе: 700\n"
          ]
        }
      ]
    },
    {
      "cell_type": "code",
      "source": [
        "# Найти пользователей потративших на поездки более 3 часов.\n",
        "\n",
        "time_of_bike_trips= trips_df.groupBy('bike_id').sum('duration').withColumnRenamed(\"sum(duration)\", \"total_duration\")\n",
        "\n",
        "time_of_bike_trips.filter('total_duration > 10800').show()"
      ],
      "metadata": {
        "colab": {
          "base_uri": "https://localhost:8080/"
        },
        "id": "sfXlBK3Dnmrx",
        "outputId": "c4116f95-6093-4d82-e2d6-34a4893a0eeb"
      },
      "execution_count": 51,
      "outputs": [
        {
          "output_type": "stream",
          "name": "stdout",
          "text": [
            "+-------+--------------+\n",
            "|bike_id|total_duration|\n",
            "+-------+--------------+\n",
            "|    471|       1718831|\n",
            "|    496|       1679568|\n",
            "|    148|        332138|\n",
            "|    463|       1722796|\n",
            "|    540|       1752835|\n",
            "|    392|       1789476|\n",
            "|    623|       2037219|\n",
            "|    243|        307458|\n",
            "|    516|       1896751|\n",
            "|     31|        407907|\n",
            "|    580|       1034382|\n",
            "|    137|       1529200|\n",
            "|    251|       1282980|\n",
            "|    451|       1695574|\n",
            "|     85|       1214769|\n",
            "|    458|       1647080|\n",
            "|     65|        216922|\n",
            "|    588|        266415|\n",
            "|    255|        396395|\n",
            "|     53|        226389|\n",
            "+-------+--------------+\n",
            "only showing top 20 rows\n",
            "\n"
          ]
        }
      ]
    }
  ]
}